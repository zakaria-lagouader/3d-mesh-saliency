{
 "cells": [
  {
   "cell_type": "code",
   "execution_count": 1,
   "metadata": {},
   "outputs": [],
   "source": [
    "import os\n",
    "import glob\n",
    "import trimesh\n",
    "import numpy as np"
   ]
  },
  {
   "cell_type": "code",
   "execution_count": 2,
   "metadata": {},
   "outputs": [],
   "source": [
    "dataset_folder = '' # path to the dataset folder\n",
    "dataset_path = os.path.join(os.getcwd(), dataset_folder)\n",
    "mesh_files = glob.glob(os.path.join(dataset_path, '*.ply'))\n",
    "saliency_files = glob.glob(os.path.join(dataset_path, '*.val'))"
   ]
  },
  {
   "cell_type": "code",
   "execution_count": 3,
   "metadata": {},
   "outputs": [],
   "source": [
    "# Check if the number of mesh files and saliency files are the same\n",
    "assert len(mesh_files) == len(saliency_files)"
   ]
  },
  {
   "cell_type": "code",
   "execution_count": 4,
   "metadata": {},
   "outputs": [],
   "source": [
    "for mesh_file, saliency_file in zip(mesh_files, saliency_files):\n",
    "    mesh = trimesh.load(mesh_file)\n",
    "    saliency = np.loadtxt(saliency_file)\n",
    "    assert len(saliency) == len(mesh.vertices)\n",
    "\n",
    "    # Compute the face saliency\n",
    "    face_saliency = np.mean(saliency[mesh.faces], axis=1)\n",
    "\n",
    "    # face saliency between 0 and 1\n",
    "    face_saliency = (face_saliency - np.min(face_saliency)) / (np.max(face_saliency) - np.min(face_saliency))\n",
    "\n",
    "    # Save the face saliency to a file\n",
    "    face_saliency_file = os.path.splitext(mesh_file)[0] + '.face.txt'\n",
    "    \n",
    "    np.savetxt(face_saliency_file, face_saliency, fmt='%.5f')"
   ]
  },
  {
   "cell_type": "code",
   "execution_count": null,
   "metadata": {},
   "outputs": [],
   "source": []
  }
 ],
 "metadata": {
  "kernelspec": {
   "display_name": "Python 3",
   "language": "python",
   "name": "python3"
  },
  "language_info": {
   "codemirror_mode": {
    "name": "ipython",
    "version": 3
   },
   "file_extension": ".py",
   "mimetype": "text/x-python",
   "name": "python",
   "nbconvert_exporter": "python",
   "pygments_lexer": "ipython3",
   "version": "3.10.4"
  }
 },
 "nbformat": 4,
 "nbformat_minor": 2
}
