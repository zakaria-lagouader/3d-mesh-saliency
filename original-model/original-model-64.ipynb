{
 "cells": [
  {
   "cell_type": "code",
   "execution_count": 2,
   "id": "4429808d",
   "metadata": {
    "execution": {
     "iopub.execute_input": "2024-08-20T18:50:33.329776Z",
     "iopub.status.busy": "2024-08-20T18:50:33.329488Z",
     "iopub.status.idle": "2024-08-20T18:50:47.981978Z",
     "shell.execute_reply": "2024-08-20T18:50:47.981197Z"
    },
    "papermill": {
     "duration": 14.671321,
     "end_time": "2024-08-20T18:50:47.984368",
     "exception": false,
     "start_time": "2024-08-20T18:50:33.313047",
     "status": "completed"
    },
    "tags": []
   },
   "outputs": [
    {
     "name": "stderr",
     "output_type": "stream",
     "text": [
      "2024-08-20 18:50:35.512554: E external/local_xla/xla/stream_executor/cuda/cuda_dnn.cc:9261] Unable to register cuDNN factory: Attempting to register factory for plugin cuDNN when one has already been registered\n",
      "2024-08-20 18:50:35.512694: E external/local_xla/xla/stream_executor/cuda/cuda_fft.cc:607] Unable to register cuFFT factory: Attempting to register factory for plugin cuFFT when one has already been registered\n",
      "2024-08-20 18:50:35.676726: E external/local_xla/xla/stream_executor/cuda/cuda_blas.cc:1515] Unable to register cuBLAS factory: Attempting to register factory for plugin cuBLAS when one has already been registered\n"
     ]
    }
   ],
   "source": [
    "from keras.callbacks import EarlyStopping, ReduceLROnPlateau\n",
    "from keras.losses import Huber\n",
    "from keras.metrics import MeanSquaredError, MeanAbsoluteError,RootMeanSquaredError\n",
    "from keras import Sequential, layers\n",
    "from keras.optimizers import Adam\n",
    "from sklearn.utils import shuffle\n",
    "import matplotlib.pyplot as plt\n",
    "import numpy as np\n",
    "import glob\n",
    "import os"
   ]
  },
  {
   "cell_type": "code",
   "execution_count": 3,
   "id": "ebe4f028",
   "metadata": {
    "execution": {
     "iopub.execute_input": "2024-08-20T18:50:48.028678Z",
     "iopub.status.busy": "2024-08-20T18:50:48.027885Z",
     "iopub.status.idle": "2024-08-20T18:50:48.032954Z",
     "shell.execute_reply": "2024-08-20T18:50:48.032041Z"
    },
    "papermill": {
     "duration": 0.032203,
     "end_time": "2024-08-20T18:50:48.034940",
     "exception": false,
     "start_time": "2024-08-20T18:50:48.002737",
     "status": "completed"
    },
    "tags": []
   },
   "outputs": [],
   "source": [
    "# Hyper parameters\n",
    "PATCH_SIZE = 64\n",
    "BATCH_SIZE = 200\n",
    "EPOCHS = 80"
   ]
  },
  {
   "cell_type": "code",
   "execution_count": 4,
   "id": "2e9b514f",
   "metadata": {
    "execution": {
     "iopub.execute_input": "2024-08-20T18:50:48.071928Z",
     "iopub.status.busy": "2024-08-20T18:50:48.071624Z",
     "iopub.status.idle": "2024-08-20T18:50:48.085852Z",
     "shell.execute_reply": "2024-08-20T18:50:48.084928Z"
    },
    "papermill": {
     "duration": 0.034865,
     "end_time": "2024-08-20T18:50:48.087740",
     "exception": false,
     "start_time": "2024-08-20T18:50:48.052875",
     "status": "completed"
    },
    "tags": []
   },
   "outputs": [
    {
     "name": "stdout",
     "output_type": "stream",
     "text": [
      "Number of patches: 43\n",
      "Number of saliency maps: 43\n"
     ]
    }
   ],
   "source": [
    "val_files = {\n",
    "    \"../patches-64/skull_decimated.npy\", \n",
    "    \"../patches-64/ant_decimated.npy\", \n",
    "    \"../patches-64/vase_decimated.npy\", \n",
    "    \"../patches-64/isis_decimated.npy\", \n",
    "    \"../patches-64/teddy_decimated.npy\",\n",
    "    \"../patches-64/teapot_decimated.npy\"\n",
    "}\n",
    "\n",
    "patche_files = sorted(glob.glob('../patches-64/*.npy'))\n",
    "patche_files = list(set(patche_files) - val_files)\n",
    "saliency_files = [\n",
    "    f\"../3d-meshes/{os.path.basename(f).replace('.npy', '.txt')}\" \n",
    "    for f in patche_files\n",
    "]\n",
    "\n",
    "print('Number of patches:', len(patche_files))\n",
    "print('Number of saliency maps:', len(saliency_files))"
   ]
  },
  {
   "cell_type": "code",
   "execution_count": 5,
   "id": "c732e4f2",
   "metadata": {
    "execution": {
     "iopub.execute_input": "2024-08-20T18:50:48.121064Z",
     "iopub.status.busy": "2024-08-20T18:50:48.120251Z",
     "iopub.status.idle": "2024-08-20T18:52:39.222170Z",
     "shell.execute_reply": "2024-08-20T18:52:39.221247Z"
    },
    "papermill": {
     "duration": 111.135606,
     "end_time": "2024-08-20T18:52:39.239713",
     "exception": false,
     "start_time": "2024-08-20T18:50:48.104107",
     "status": "completed"
    },
    "tags": []
   },
   "outputs": [
    {
     "data": {
      "text/plain": [
       "((859999, 64, 64, 3), (859999,), dtype('uint8'), dtype('float32'))"
      ]
     },
     "execution_count": 5,
     "metadata": {},
     "output_type": "execute_result"
    }
   ],
   "source": [
    "X_train = np.concatenate([np.load(f, mmap_mode=\"r\").astype(np.uint8) for f in patche_files])\n",
    "y_train = np.concatenate([np.loadtxt(f).astype(np.float32) for f in saliency_files])\n",
    "    \n",
    "X_train, y_train = shuffle(X_train, y_train)\n",
    "X_train.shape, y_train.shape, X_train.dtype, y_train.dtype"
   ]
  },
  {
   "cell_type": "code",
   "execution_count": 6,
   "id": "1194b0e5",
   "metadata": {
    "execution": {
     "iopub.execute_input": "2024-08-20T18:52:39.271297Z",
     "iopub.status.busy": "2024-08-20T18:52:39.270975Z",
     "iopub.status.idle": "2024-08-20T18:52:40.314476Z",
     "shell.execute_reply": "2024-08-20T18:52:40.313603Z"
    },
    "papermill": {
     "duration": 1.061704,
     "end_time": "2024-08-20T18:52:40.316517",
     "exception": false,
     "start_time": "2024-08-20T18:52:39.254813",
     "status": "completed"
    },
    "tags": []
   },
   "outputs": [
    {
     "name": "stderr",
     "output_type": "stream",
     "text": [
      "/opt/conda/lib/python3.10/site-packages/keras/src/layers/convolutional/base_conv.py:107: UserWarning: Do not pass an `input_shape`/`input_dim` argument to a layer. When using Sequential models, prefer using an `Input(shape)` object as the first layer in the model instead.\n",
      "  super().__init__(activity_regularizer=activity_regularizer, **kwargs)\n"
     ]
    },
    {
     "data": {
      "text/html": [
       "<pre style=\"white-space:pre;overflow-x:auto;line-height:normal;font-family:Menlo,'DejaVu Sans Mono',consolas,'Courier New',monospace\"><span style=\"font-weight: bold\">Model: \"sequential\"</span>\n",
       "</pre>\n"
      ],
      "text/plain": [
       "\u001b[1mModel: \"sequential\"\u001b[0m\n"
      ]
     },
     "metadata": {},
     "output_type": "display_data"
    },
    {
     "data": {
      "text/html": [
       "<pre style=\"white-space:pre;overflow-x:auto;line-height:normal;font-family:Menlo,'DejaVu Sans Mono',consolas,'Courier New',monospace\">┏━━━━━━━━━━━━━━━━━━━━━━━━━━━━━━━━━┳━━━━━━━━━━━━━━━━━━━━━━━━┳━━━━━━━━━━━━━━━┓\n",
       "┃<span style=\"font-weight: bold\"> Layer (type)                    </span>┃<span style=\"font-weight: bold\"> Output Shape           </span>┃<span style=\"font-weight: bold\">       Param # </span>┃\n",
       "┡━━━━━━━━━━━━━━━━━━━━━━━━━━━━━━━━━╇━━━━━━━━━━━━━━━━━━━━━━━━╇━━━━━━━━━━━━━━━┩\n",
       "│ conv2d (<span style=\"color: #0087ff; text-decoration-color: #0087ff\">Conv2D</span>)                 │ (<span style=\"color: #00d7ff; text-decoration-color: #00d7ff\">None</span>, <span style=\"color: #00af00; text-decoration-color: #00af00\">64</span>, <span style=\"color: #00af00; text-decoration-color: #00af00\">64</span>, <span style=\"color: #00af00; text-decoration-color: #00af00\">32</span>)     │           <span style=\"color: #00af00; text-decoration-color: #00af00\">896</span> │\n",
       "├─────────────────────────────────┼────────────────────────┼───────────────┤\n",
       "│ max_pooling2d (<span style=\"color: #0087ff; text-decoration-color: #0087ff\">MaxPooling2D</span>)    │ (<span style=\"color: #00d7ff; text-decoration-color: #00d7ff\">None</span>, <span style=\"color: #00af00; text-decoration-color: #00af00\">32</span>, <span style=\"color: #00af00; text-decoration-color: #00af00\">32</span>, <span style=\"color: #00af00; text-decoration-color: #00af00\">32</span>)     │             <span style=\"color: #00af00; text-decoration-color: #00af00\">0</span> │\n",
       "├─────────────────────────────────┼────────────────────────┼───────────────┤\n",
       "│ conv2d_1 (<span style=\"color: #0087ff; text-decoration-color: #0087ff\">Conv2D</span>)               │ (<span style=\"color: #00d7ff; text-decoration-color: #00d7ff\">None</span>, <span style=\"color: #00af00; text-decoration-color: #00af00\">32</span>, <span style=\"color: #00af00; text-decoration-color: #00af00\">32</span>, <span style=\"color: #00af00; text-decoration-color: #00af00\">64</span>)     │        <span style=\"color: #00af00; text-decoration-color: #00af00\">18,496</span> │\n",
       "├─────────────────────────────────┼────────────────────────┼───────────────┤\n",
       "│ max_pooling2d_1 (<span style=\"color: #0087ff; text-decoration-color: #0087ff\">MaxPooling2D</span>)  │ (<span style=\"color: #00d7ff; text-decoration-color: #00d7ff\">None</span>, <span style=\"color: #00af00; text-decoration-color: #00af00\">16</span>, <span style=\"color: #00af00; text-decoration-color: #00af00\">16</span>, <span style=\"color: #00af00; text-decoration-color: #00af00\">64</span>)     │             <span style=\"color: #00af00; text-decoration-color: #00af00\">0</span> │\n",
       "├─────────────────────────────────┼────────────────────────┼───────────────┤\n",
       "│ conv2d_2 (<span style=\"color: #0087ff; text-decoration-color: #0087ff\">Conv2D</span>)               │ (<span style=\"color: #00d7ff; text-decoration-color: #00d7ff\">None</span>, <span style=\"color: #00af00; text-decoration-color: #00af00\">16</span>, <span style=\"color: #00af00; text-decoration-color: #00af00\">16</span>, <span style=\"color: #00af00; text-decoration-color: #00af00\">128</span>)    │        <span style=\"color: #00af00; text-decoration-color: #00af00\">73,856</span> │\n",
       "├─────────────────────────────────┼────────────────────────┼───────────────┤\n",
       "│ max_pooling2d_2 (<span style=\"color: #0087ff; text-decoration-color: #0087ff\">MaxPooling2D</span>)  │ (<span style=\"color: #00d7ff; text-decoration-color: #00d7ff\">None</span>, <span style=\"color: #00af00; text-decoration-color: #00af00\">8</span>, <span style=\"color: #00af00; text-decoration-color: #00af00\">8</span>, <span style=\"color: #00af00; text-decoration-color: #00af00\">128</span>)      │             <span style=\"color: #00af00; text-decoration-color: #00af00\">0</span> │\n",
       "├─────────────────────────────────┼────────────────────────┼───────────────┤\n",
       "│ flatten (<span style=\"color: #0087ff; text-decoration-color: #0087ff\">Flatten</span>)               │ (<span style=\"color: #00d7ff; text-decoration-color: #00d7ff\">None</span>, <span style=\"color: #00af00; text-decoration-color: #00af00\">8192</span>)           │             <span style=\"color: #00af00; text-decoration-color: #00af00\">0</span> │\n",
       "├─────────────────────────────────┼────────────────────────┼───────────────┤\n",
       "│ dense (<span style=\"color: #0087ff; text-decoration-color: #0087ff\">Dense</span>)                   │ (<span style=\"color: #00d7ff; text-decoration-color: #00d7ff\">None</span>, <span style=\"color: #00af00; text-decoration-color: #00af00\">256</span>)            │     <span style=\"color: #00af00; text-decoration-color: #00af00\">2,097,408</span> │\n",
       "├─────────────────────────────────┼────────────────────────┼───────────────┤\n",
       "│ dense_1 (<span style=\"color: #0087ff; text-decoration-color: #0087ff\">Dense</span>)                 │ (<span style=\"color: #00d7ff; text-decoration-color: #00d7ff\">None</span>, <span style=\"color: #00af00; text-decoration-color: #00af00\">256</span>)            │        <span style=\"color: #00af00; text-decoration-color: #00af00\">65,792</span> │\n",
       "├─────────────────────────────────┼────────────────────────┼───────────────┤\n",
       "│ dense_2 (<span style=\"color: #0087ff; text-decoration-color: #0087ff\">Dense</span>)                 │ (<span style=\"color: #00d7ff; text-decoration-color: #00d7ff\">None</span>, <span style=\"color: #00af00; text-decoration-color: #00af00\">1</span>)              │           <span style=\"color: #00af00; text-decoration-color: #00af00\">257</span> │\n",
       "└─────────────────────────────────┴────────────────────────┴───────────────┘\n",
       "</pre>\n"
      ],
      "text/plain": [
       "┏━━━━━━━━━━━━━━━━━━━━━━━━━━━━━━━━━┳━━━━━━━━━━━━━━━━━━━━━━━━┳━━━━━━━━━━━━━━━┓\n",
       "┃\u001b[1m \u001b[0m\u001b[1mLayer (type)                   \u001b[0m\u001b[1m \u001b[0m┃\u001b[1m \u001b[0m\u001b[1mOutput Shape          \u001b[0m\u001b[1m \u001b[0m┃\u001b[1m \u001b[0m\u001b[1m      Param #\u001b[0m\u001b[1m \u001b[0m┃\n",
       "┡━━━━━━━━━━━━━━━━━━━━━━━━━━━━━━━━━╇━━━━━━━━━━━━━━━━━━━━━━━━╇━━━━━━━━━━━━━━━┩\n",
       "│ conv2d (\u001b[38;5;33mConv2D\u001b[0m)                 │ (\u001b[38;5;45mNone\u001b[0m, \u001b[38;5;34m64\u001b[0m, \u001b[38;5;34m64\u001b[0m, \u001b[38;5;34m32\u001b[0m)     │           \u001b[38;5;34m896\u001b[0m │\n",
       "├─────────────────────────────────┼────────────────────────┼───────────────┤\n",
       "│ max_pooling2d (\u001b[38;5;33mMaxPooling2D\u001b[0m)    │ (\u001b[38;5;45mNone\u001b[0m, \u001b[38;5;34m32\u001b[0m, \u001b[38;5;34m32\u001b[0m, \u001b[38;5;34m32\u001b[0m)     │             \u001b[38;5;34m0\u001b[0m │\n",
       "├─────────────────────────────────┼────────────────────────┼───────────────┤\n",
       "│ conv2d_1 (\u001b[38;5;33mConv2D\u001b[0m)               │ (\u001b[38;5;45mNone\u001b[0m, \u001b[38;5;34m32\u001b[0m, \u001b[38;5;34m32\u001b[0m, \u001b[38;5;34m64\u001b[0m)     │        \u001b[38;5;34m18,496\u001b[0m │\n",
       "├─────────────────────────────────┼────────────────────────┼───────────────┤\n",
       "│ max_pooling2d_1 (\u001b[38;5;33mMaxPooling2D\u001b[0m)  │ (\u001b[38;5;45mNone\u001b[0m, \u001b[38;5;34m16\u001b[0m, \u001b[38;5;34m16\u001b[0m, \u001b[38;5;34m64\u001b[0m)     │             \u001b[38;5;34m0\u001b[0m │\n",
       "├─────────────────────────────────┼────────────────────────┼───────────────┤\n",
       "│ conv2d_2 (\u001b[38;5;33mConv2D\u001b[0m)               │ (\u001b[38;5;45mNone\u001b[0m, \u001b[38;5;34m16\u001b[0m, \u001b[38;5;34m16\u001b[0m, \u001b[38;5;34m128\u001b[0m)    │        \u001b[38;5;34m73,856\u001b[0m │\n",
       "├─────────────────────────────────┼────────────────────────┼───────────────┤\n",
       "│ max_pooling2d_2 (\u001b[38;5;33mMaxPooling2D\u001b[0m)  │ (\u001b[38;5;45mNone\u001b[0m, \u001b[38;5;34m8\u001b[0m, \u001b[38;5;34m8\u001b[0m, \u001b[38;5;34m128\u001b[0m)      │             \u001b[38;5;34m0\u001b[0m │\n",
       "├─────────────────────────────────┼────────────────────────┼───────────────┤\n",
       "│ flatten (\u001b[38;5;33mFlatten\u001b[0m)               │ (\u001b[38;5;45mNone\u001b[0m, \u001b[38;5;34m8192\u001b[0m)           │             \u001b[38;5;34m0\u001b[0m │\n",
       "├─────────────────────────────────┼────────────────────────┼───────────────┤\n",
       "│ dense (\u001b[38;5;33mDense\u001b[0m)                   │ (\u001b[38;5;45mNone\u001b[0m, \u001b[38;5;34m256\u001b[0m)            │     \u001b[38;5;34m2,097,408\u001b[0m │\n",
       "├─────────────────────────────────┼────────────────────────┼───────────────┤\n",
       "│ dense_1 (\u001b[38;5;33mDense\u001b[0m)                 │ (\u001b[38;5;45mNone\u001b[0m, \u001b[38;5;34m256\u001b[0m)            │        \u001b[38;5;34m65,792\u001b[0m │\n",
       "├─────────────────────────────────┼────────────────────────┼───────────────┤\n",
       "│ dense_2 (\u001b[38;5;33mDense\u001b[0m)                 │ (\u001b[38;5;45mNone\u001b[0m, \u001b[38;5;34m1\u001b[0m)              │           \u001b[38;5;34m257\u001b[0m │\n",
       "└─────────────────────────────────┴────────────────────────┴───────────────┘\n"
      ]
     },
     "metadata": {},
     "output_type": "display_data"
    },
    {
     "data": {
      "text/html": [
       "<pre style=\"white-space:pre;overflow-x:auto;line-height:normal;font-family:Menlo,'DejaVu Sans Mono',consolas,'Courier New',monospace\"><span style=\"font-weight: bold\"> Total params: </span><span style=\"color: #00af00; text-decoration-color: #00af00\">2,256,705</span> (8.61 MB)\n",
       "</pre>\n"
      ],
      "text/plain": [
       "\u001b[1m Total params: \u001b[0m\u001b[38;5;34m2,256,705\u001b[0m (8.61 MB)\n"
      ]
     },
     "metadata": {},
     "output_type": "display_data"
    },
    {
     "data": {
      "text/html": [
       "<pre style=\"white-space:pre;overflow-x:auto;line-height:normal;font-family:Menlo,'DejaVu Sans Mono',consolas,'Courier New',monospace\"><span style=\"font-weight: bold\"> Trainable params: </span><span style=\"color: #00af00; text-decoration-color: #00af00\">2,256,705</span> (8.61 MB)\n",
       "</pre>\n"
      ],
      "text/plain": [
       "\u001b[1m Trainable params: \u001b[0m\u001b[38;5;34m2,256,705\u001b[0m (8.61 MB)\n"
      ]
     },
     "metadata": {},
     "output_type": "display_data"
    },
    {
     "data": {
      "text/html": [
       "<pre style=\"white-space:pre;overflow-x:auto;line-height:normal;font-family:Menlo,'DejaVu Sans Mono',consolas,'Courier New',monospace\"><span style=\"font-weight: bold\"> Non-trainable params: </span><span style=\"color: #00af00; text-decoration-color: #00af00\">0</span> (0.00 B)\n",
       "</pre>\n"
      ],
      "text/plain": [
       "\u001b[1m Non-trainable params: \u001b[0m\u001b[38;5;34m0\u001b[0m (0.00 B)\n"
      ]
     },
     "metadata": {},
     "output_type": "display_data"
    }
   ],
   "source": [
    "# Define the CNN model\n",
    "model = Sequential()\n",
    "\n",
    "# Convolutional layers with L2 regularization\n",
    "model.add(layers.Conv2D(32, (3, 3), padding=\"same\", strides=(1, 1), activation=\"relu\", input_shape=(PATCH_SIZE, PATCH_SIZE, 3)))\n",
    "model.add(layers.MaxPooling2D((2, 2), strides=(2, 2), padding=\"valid\"))\n",
    "\n",
    "model.add(layers.Conv2D(64, (3, 3), padding=\"same\", strides=(1, 1), activation='relu'))\n",
    "model.add(layers.MaxPooling2D((2, 2), strides=(2, 2), padding=\"valid\"))\n",
    "\n",
    "model.add(layers.Conv2D(128, (3, 3), padding=\"same\", strides=(1, 1), activation='relu'))\n",
    "model.add(layers.MaxPooling2D((2, 2), strides=(2, 2), padding=\"valid\"))\n",
    "\n",
    "# Flatten the output from convolutional layers\n",
    "model.add(layers.Flatten())\n",
    "\n",
    "# Dense layers with L2 regularization\n",
    "model.add(layers.Dense(256, activation='relu'))\n",
    "model.add(layers.Dense(256, activation='relu'))\n",
    "\n",
    "# Output layer\n",
    "model.add(layers.Dense(1, activation='sigmoid'))\n",
    "\n",
    "# Compile the model\n",
    "model.compile(optimizer=Adam(learning_rate=1e-4),\n",
    "              loss=Huber(),\n",
    "              metrics=[\n",
    "                  MeanSquaredError(name='mse'),\n",
    "                  MeanAbsoluteError(name='mae'),\n",
    "                  RootMeanSquaredError(name='rmse'),\n",
    "              ])\n",
    "\n",
    "# Print the model summary\n",
    "model.summary()"
   ]
  },
  {
   "cell_type": "code",
   "execution_count": 7,
   "id": "e42e4e5a",
   "metadata": {
    "execution": {
     "iopub.execute_input": "2024-08-20T18:52:40.349910Z",
     "iopub.status.busy": "2024-08-20T18:52:40.349635Z",
     "iopub.status.idle": "2024-08-20T18:52:40.354370Z",
     "shell.execute_reply": "2024-08-20T18:52:40.353553Z"
    },
    "papermill": {
     "duration": 0.023374,
     "end_time": "2024-08-20T18:52:40.356171",
     "exception": false,
     "start_time": "2024-08-20T18:52:40.332797",
     "status": "completed"
    },
    "tags": []
   },
   "outputs": [],
   "source": [
    "reduce_lr = ReduceLROnPlateau(monitor='val_loss', factor=0.5, patience=5, min_lr=1e-7)\n",
    "early_stopping = EarlyStopping(monitor='val_loss', patience=10, restore_best_weights=True)"
   ]
  },
  {
   "cell_type": "code",
   "execution_count": 8,
   "id": "aa7ba976",
   "metadata": {
    "execution": {
     "iopub.execute_input": "2024-08-20T18:52:40.389303Z",
     "iopub.status.busy": "2024-08-20T18:52:40.389027Z",
     "iopub.status.idle": "2024-08-20T19:07:02.983509Z",
     "shell.execute_reply": "2024-08-20T19:07:02.982454Z"
    },
    "papermill": {
     "duration": 863.108488,
     "end_time": "2024-08-20T19:07:03.480660",
     "exception": false,
     "start_time": "2024-08-20T18:52:40.372172",
     "status": "completed"
    },
    "tags": []
   },
   "outputs": [
    {
     "name": "stdout",
     "output_type": "stream",
     "text": [
      "Epoch 1/80\n",
      "\u001b[1m   7/3440\u001b[0m \u001b[37m━━━━━━━━━━━━━━━━━━━━\u001b[0m \u001b[1m1:09\u001b[0m 20ms/step - loss: 0.4254 - mae: 0.9049 - mse: 0.8507 - rmse: 0.9223"
     ]
    },
    {
     "name": "stderr",
     "output_type": "stream",
     "text": [
      "WARNING: All log messages before absl::InitializeLog() is called are written to STDERR\n",
      "I0000 00:00:1724179987.843504      81 device_compiler.h:186] Compiled cluster using XLA!  This line is logged at most once for the lifetime of the process.\n",
      "W0000 00:00:1724179987.868607      81 graph_launch.cc:671] Fallback to op-by-op mode because memset node breaks graph update\n"
     ]
    },
    {
     "name": "stdout",
     "output_type": "stream",
     "text": [
      "\u001b[1m3440/3440\u001b[0m \u001b[32m━━━━━━━━━━━━━━━━━━━━\u001b[0m\u001b[37m\u001b[0m \u001b[1m0s\u001b[0m 21ms/step - loss: 0.4307 - mae: 0.9117 - mse: 0.8615 - rmse: 0.9282"
     ]
    },
    {
     "name": "stderr",
     "output_type": "stream",
     "text": [
      "W0000 00:00:1724180061.143347      83 graph_launch.cc:671] Fallback to op-by-op mode because memset node breaks graph update\n",
      "W0000 00:00:1724180066.534928      81 graph_launch.cc:671] Fallback to op-by-op mode because memset node breaks graph update\n"
     ]
    },
    {
     "name": "stdout",
     "output_type": "stream",
     "text": [
      "\u001b[1m3440/3440\u001b[0m \u001b[32m━━━━━━━━━━━━━━━━━━━━\u001b[0m\u001b[37m\u001b[0m \u001b[1m93s\u001b[0m 24ms/step - loss: 0.4307 - mae: 0.9117 - mse: 0.8615 - rmse: 0.9282 - val_loss: 0.4308 - val_mae: 0.9121 - val_mse: 0.8617 - val_rmse: 0.9283 - learning_rate: 1.0000e-04\n",
      "Epoch 2/80\n",
      "\u001b[1m3440/3440\u001b[0m \u001b[32m━━━━━━━━━━━━━━━━━━━━\u001b[0m\u001b[37m\u001b[0m \u001b[1m75s\u001b[0m 22ms/step - loss: 0.4306 - mae: 0.9116 - mse: 0.8613 - rmse: 0.9280 - val_loss: 0.4308 - val_mae: 0.9121 - val_mse: 0.8617 - val_rmse: 0.9283 - learning_rate: 1.0000e-04\n",
      "Epoch 3/80\n",
      "\u001b[1m3440/3440\u001b[0m \u001b[32m━━━━━━━━━━━━━━━━━━━━\u001b[0m\u001b[37m\u001b[0m \u001b[1m75s\u001b[0m 22ms/step - loss: 0.4308 - mae: 0.9119 - mse: 0.8617 - rmse: 0.9283 - val_loss: 0.4308 - val_mae: 0.9121 - val_mse: 0.8617 - val_rmse: 0.9283 - learning_rate: 1.0000e-04\n",
      "Epoch 4/80\n",
      "\u001b[1m3440/3440\u001b[0m \u001b[32m━━━━━━━━━━━━━━━━━━━━\u001b[0m\u001b[37m\u001b[0m \u001b[1m75s\u001b[0m 22ms/step - loss: 0.4307 - mae: 0.9117 - mse: 0.8614 - rmse: 0.9281 - val_loss: 0.4308 - val_mae: 0.9121 - val_mse: 0.8617 - val_rmse: 0.9283 - learning_rate: 1.0000e-04\n",
      "Epoch 5/80\n",
      "\u001b[1m3440/3440\u001b[0m \u001b[32m━━━━━━━━━━━━━━━━━━━━\u001b[0m\u001b[37m\u001b[0m \u001b[1m75s\u001b[0m 22ms/step - loss: 0.4307 - mae: 0.9117 - mse: 0.8614 - rmse: 0.9281 - val_loss: 0.4308 - val_mae: 0.9121 - val_mse: 0.8617 - val_rmse: 0.9283 - learning_rate: 1.0000e-04\n",
      "Epoch 6/80\n",
      "\u001b[1m3440/3440\u001b[0m \u001b[32m━━━━━━━━━━━━━━━━━━━━\u001b[0m\u001b[37m\u001b[0m \u001b[1m75s\u001b[0m 22ms/step - loss: 0.4308 - mae: 0.9118 - mse: 0.8616 - rmse: 0.9282 - val_loss: 0.4308 - val_mae: 0.9121 - val_mse: 0.8617 - val_rmse: 0.9283 - learning_rate: 1.0000e-04\n",
      "Epoch 7/80\n",
      "\u001b[1m3440/3440\u001b[0m \u001b[32m━━━━━━━━━━━━━━━━━━━━\u001b[0m\u001b[37m\u001b[0m \u001b[1m75s\u001b[0m 22ms/step - loss: 0.4309 - mae: 0.9120 - mse: 0.8617 - rmse: 0.9283 - val_loss: 0.4308 - val_mae: 0.9121 - val_mse: 0.8617 - val_rmse: 0.9283 - learning_rate: 5.0000e-05\n",
      "Epoch 8/80\n",
      "\u001b[1m3440/3440\u001b[0m \u001b[32m━━━━━━━━━━━━━━━━━━━━\u001b[0m\u001b[37m\u001b[0m \u001b[1m75s\u001b[0m 22ms/step - loss: 0.4309 - mae: 0.9119 - mse: 0.8619 - rmse: 0.9284 - val_loss: 0.4308 - val_mae: 0.9121 - val_mse: 0.8617 - val_rmse: 0.9283 - learning_rate: 5.0000e-05\n",
      "Epoch 9/80\n",
      "\u001b[1m3440/3440\u001b[0m \u001b[32m━━━━━━━━━━━━━━━━━━━━\u001b[0m\u001b[37m\u001b[0m \u001b[1m75s\u001b[0m 22ms/step - loss: 0.4307 - mae: 0.9117 - mse: 0.8614 - rmse: 0.9281 - val_loss: 0.4308 - val_mae: 0.9121 - val_mse: 0.8617 - val_rmse: 0.9283 - learning_rate: 5.0000e-05\n",
      "Epoch 10/80\n",
      "\u001b[1m3440/3440\u001b[0m \u001b[32m━━━━━━━━━━━━━━━━━━━━\u001b[0m\u001b[37m\u001b[0m \u001b[1m75s\u001b[0m 22ms/step - loss: 0.4307 - mae: 0.9117 - mse: 0.8614 - rmse: 0.9281 - val_loss: 0.4308 - val_mae: 0.9121 - val_mse: 0.8617 - val_rmse: 0.9283 - learning_rate: 5.0000e-05\n",
      "Epoch 11/80\n",
      "\u001b[1m3440/3440\u001b[0m \u001b[32m━━━━━━━━━━━━━━━━━━━━\u001b[0m\u001b[37m\u001b[0m \u001b[1m75s\u001b[0m 22ms/step - loss: 0.4308 - mae: 0.9118 - mse: 0.8616 - rmse: 0.9282 - val_loss: 0.4308 - val_mae: 0.9121 - val_mse: 0.8617 - val_rmse: 0.9283 - learning_rate: 5.0000e-05\n"
     ]
    }
   ],
   "source": [
    "# fit the model\n",
    "saliency_model = model.fit(\n",
    "    X_train, y_train, \n",
    "    batch_size=BATCH_SIZE, \n",
    "    epochs=EPOCHS, \n",
    "    validation_split=0.2, \n",
    "    verbose=1,\n",
    "    callbacks=[reduce_lr, early_stopping]\n",
    ")"
   ]
  },
  {
   "cell_type": "code",
   "execution_count": 9,
   "id": "944afa3f",
   "metadata": {
    "execution": {
     "iopub.execute_input": "2024-08-20T19:07:05.611977Z",
     "iopub.status.busy": "2024-08-20T19:07:05.611617Z",
     "iopub.status.idle": "2024-08-20T19:07:06.522676Z",
     "shell.execute_reply": "2024-08-20T19:07:06.521800Z"
    },
    "papermill": {
     "duration": 2.002401,
     "end_time": "2024-08-20T19:07:06.525429",
     "exception": false,
     "start_time": "2024-08-20T19:07:04.523028",
     "status": "completed"
    },
    "tags": []
   },
   "outputs": [
    {
     "data": {
      "image/png": "[encoded data removed]",
      "text/plain": [
       "<Figure size 2000x1000 with 4 Axes>"
      ]
     },
     "metadata": {},
     "output_type": "display_data"
    }
   ],
   "source": [
    "plt.figure(figsize=(20, 10))\n",
    "# Plot the training and validation loss\n",
    "plt.subplot(2, 2, 1)\n",
    "plt.plot(saliency_model.history['loss'][0:])\n",
    "plt.plot(saliency_model.history['val_loss'][0:])\n",
    "plt.title('Model loss')\n",
    "plt.ylabel('Loss')\n",
    "plt.xlabel('Epoch')\n",
    "plt.legend(['Train', 'Validation'], loc='upper left')\n",
    "\n",
    "plt.subplot(2, 2, 2)\n",
    "plt.plot(saliency_model.history['mse'][0:])\n",
    "plt.plot(saliency_model.history['val_mse'][0:])\n",
    "plt.title('Model MSE')\n",
    "plt.ylabel('MSE')\n",
    "plt.xlabel('Epoch')\n",
    "plt.legend(['Train', 'Validation'], loc='upper left')\n",
    "\n",
    "plt.subplot(2, 2, 3)\n",
    "plt.plot(saliency_model.history['mae'][0:])\n",
    "plt.plot(saliency_model.history['val_mae'][0:])\n",
    "plt.title('Model MAE')\n",
    "plt.ylabel('MAE')\n",
    "plt.xlabel('Epoch')\n",
    "plt.legend(['Train', 'Validation'], loc='upper left')\n",
    "\n",
    "plt.subplot(2, 2, 4)\n",
    "plt.plot(saliency_model.history['rmse'][0:])\n",
    "plt.plot(saliency_model.history['val_rmse'][0:])\n",
    "plt.title('Model RMSE')\n",
    "plt.ylabel('RMSE')\n",
    "plt.xlabel('Epoch')\n",
    "plt.legend(['Train', 'Validation'], loc='upper left')\n",
    "\n",
    "plt.show()"
   ]
  },
  {
   "cell_type": "code",
   "execution_count": 10,
   "id": "f8cbabe1",
   "metadata": {
    "execution": {
     "iopub.execute_input": "2024-08-20T19:07:08.678058Z",
     "iopub.status.busy": "2024-08-20T19:07:08.677688Z",
     "iopub.status.idle": "2024-08-20T19:07:08.785495Z",
     "shell.execute_reply": "2024-08-20T19:07:08.784508Z"
    },
    "papermill": {
     "duration": 1.16456,
     "end_time": "2024-08-20T19:07:08.787918",
     "exception": false,
     "start_time": "2024-08-20T19:07:07.623358",
     "status": "completed"
    },
    "tags": []
   },
   "outputs": [],
   "source": [
    "model.save('../saved-models/original-model-64.h5')"
   ]
  },
  {
   "cell_type": "code",
   "execution_count": 11,
   "id": "b43d32af",
   "metadata": {
    "execution": {
     "iopub.execute_input": "2024-08-20T19:07:10.907591Z",
     "iopub.status.busy": "2024-08-20T19:07:10.906940Z",
     "iopub.status.idle": "2024-08-20T19:07:11.148640Z",
     "shell.execute_reply": "2024-08-20T19:07:11.147775Z"
    },
    "papermill": {
     "duration": 1.332035,
     "end_time": "2024-08-20T19:07:11.150736",
     "exception": false,
     "start_time": "2024-08-20T19:07:09.818701",
     "status": "completed"
    },
    "tags": []
   },
   "outputs": [
    {
     "data": {
      "text/plain": [
       "15120"
      ]
     },
     "execution_count": 11,
     "metadata": {},
     "output_type": "execute_result"
    }
   ],
   "source": [
    "import gc\n",
    "del X_train \n",
    "del y_train\n",
    "gc.collect()"
   ]
  },
  {
   "cell_type": "code",
   "execution_count": 12,
   "id": "8a76931f",
   "metadata": {
    "execution": {
     "iopub.execute_input": "2024-08-20T19:07:13.273791Z",
     "iopub.status.busy": "2024-08-20T19:07:13.273422Z",
     "iopub.status.idle": "2024-08-20T19:07:36.915050Z",
     "shell.execute_reply": "2024-08-20T19:07:36.913713Z"
    },
    "papermill": {
     "duration": 24.680635,
     "end_time": "2024-08-20T19:07:36.917187",
     "exception": false,
     "start_time": "2024-08-20T19:07:12.236552",
     "status": "completed"
    },
    "tags": []
   },
   "outputs": [
    {
     "name": "stdout",
     "output_type": "stream",
     "text": [
      "\u001b[1m  71/3750\u001b[0m \u001b[37m━━━━━━━━━━━━━━━━━━━━\u001b[0m \u001b[1m7s\u001b[0m 2ms/step - loss: 0.4269 - mae: 0.9114 - mse: 0.8537 - rmse: 0.9237"
     ]
    },
    {
     "name": "stderr",
     "output_type": "stream",
     "text": [
      "W0000 00:00:1724180848.517510      82 graph_launch.cc:671] Fallback to op-by-op mode because memset node breaks graph update\n"
     ]
    },
    {
     "name": "stdout",
     "output_type": "stream",
     "text": [
      "\u001b[1m3750/3750\u001b[0m \u001b[32m━━━━━━━━━━━━━━━━━━━━\u001b[0m\u001b[37m\u001b[0m \u001b[1m9s\u001b[0m 2ms/step - loss: 0.4371 - mae: 0.9246 - mse: 0.8742 - rmse: 0.9350\n",
      "Loss:  0.433030903339386\n",
      "MSE:  0.866061806678772\n",
      "MAE:  0.9199399352073669\n",
      "RMSE:  0.9306244254112244\n"
     ]
    }
   ],
   "source": [
    "# evaluate model\n",
    "X_test = np.concatenate([np.load(f).astype(np.uint8) for f in val_files])\n",
    "y_test = np.concatenate([np.loadtxt(f\"../3d-meshes/{os.path.basename(f).replace('.npy', '.txt')}\").astype(np.float32) for f in val_files])\n",
    "loss, mse, mae, rmse = model.evaluate(X_test, y_test, verbose=1)\n",
    "print(\"Loss: \", loss)\n",
    "print(\"MSE: \", mse)\n",
    "print(\"MAE: \", mae)\n",
    "print(\"RMSE: \", rmse)"
   ]
  }
 ],
 "metadata": {
  "kaggle": {
   "accelerator": "nvidiaTeslaT4",
   "dataSources": [
    {
     "datasetId": 5548405,
     "sourceId": 9179946,
     "sourceType": "datasetVersion"
    }
   ],
   "dockerImageVersionId": 30747,
   "isGpuEnabled": true,
   "isInternetEnabled": true,
   "language": "python",
   "sourceType": "notebook"
  },
  "kernelspec": {
   "display_name": "Python 3",
   "language": "python",
   "name": "python3"
  },
  "language_info": {
   "codemirror_mode": {
    "name": "ipython",
    "version": 3
   },
   "file_extension": ".py",
   "mimetype": "text/x-python",
   "name": "python",
   "nbconvert_exporter": "python",
   "pygments_lexer": "ipython3",
   "version": "3.10.13"
  },
  "papermill": {
   "default_parameters": {},
   "duration": 1059.943987,
   "end_time": "2024-08-20T19:07:41.176824",
   "environment_variables": {},
   "exception": null,
   "input_path": "__notebook__.ipynb",
   "output_path": "__notebook__.ipynb",
   "parameters": {},
   "start_time": "2024-08-20T18:50:01.232837",
   "version": "2.5.0"
  }
 },
 "nbformat": 4,
 "nbformat_minor": 5
}
