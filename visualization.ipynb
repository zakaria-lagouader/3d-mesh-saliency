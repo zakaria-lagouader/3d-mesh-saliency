{
 "cells": [
  {
   "cell_type": "code",
   "execution_count": null,
   "metadata": {},
   "outputs": [],
   "source": [
    "from sklearn.metrics import mean_squared_error\n",
    "from keras.models import load_model\n",
    "import numpy as np\n",
    "import trimesh"
   ]
  },
  {
   "cell_type": "code",
   "execution_count": null,
   "metadata": {},
   "outputs": [],
   "source": [
    "# Test files\n",
    "# \"skull_decimated.npy\" \n",
    "# \"ant_decimated.npy\" \n",
    "# \"vase_decimated.npy\" \n",
    "# \"isis_decimated.npy\" \n",
    "# \"teddy_decimated.npy\"\n",
    "# \"teapot_decimated.npy\""
   ]
  },
  {
   "cell_type": "code",
   "execution_count": null,
   "metadata": {},
   "outputs": [],
   "source": [
    "model_1 = load_model(\"saved-models/original-model-16.h5\")\n",
    "model_2 = load_model(\"saved-models/original-model-32.h5\")\n",
    "model_3 = load_model(\"saved-models/original-model-64.h5\")\n",
    "model_4 = load_model(\"saved-models/optimized-model-16.h5\")\n",
    "model_5 = load_model(\"saved-models/optimized-model-32.h5\")\n",
    "model_6 = load_model(\"saved-models/optimized-model-64.h5\")\n",
    "model_7 = load_model(\"saved-models/new-model-16.h5\")\n",
    "model_8 = load_model(\"saved-models/new-model-32.h5\")\n",
    "model_9 = load_model(\"saved-models/new-model-64.h5\")\n",
    "model_10 = load_model(\"saved-models/paper-16.h5\", compile=False)\n",
    "model_11 = load_model(\"saved-models/paper-32.h5\", compile=False)"
   ]
  },
  {
   "cell_type": "code",
   "execution_count": null,
   "metadata": {},
   "outputs": [],
   "source": [
    "mesh_name = 'skull_decimated'"
   ]
  },
  {
   "cell_type": "code",
   "execution_count": null,
   "metadata": {},
   "outputs": [],
   "source": [
    "mesh = trimesh.load_mesh(f'3d-meshes/{mesh_name}.obj')\n",
    "saliency = np.loadtxt(f'3d-meshes/{mesh_name}.txt')\n",
    "patches_16 = np.load(f'patches-16/{mesh_name}.npy')\n",
    "patches_32 = np.load(f'patches-32/{mesh_name}.npy')\n",
    "patches_64 = np.load(f'patches-64/{mesh_name}.npy')"
   ]
  },
  {
   "cell_type": "code",
   "execution_count": null,
   "metadata": {},
   "outputs": [],
   "source": [
    "predications_1 = model_1.predict(patches_16)\n",
    "predications_2 = model_2.predict(patches_32)\n",
    "predications_3 = model_3.predict(patches_64)\n",
    "predications_4 = model_4.predict(patches_16)\n",
    "predications_5 = model_5.predict(patches_32)\n",
    "predications_6 = model_6.predict(patches_64)\n",
    "predications_7 = model_7.predict(patches_16)\n",
    "predications_8 = model_8.predict(patches_32)\n",
    "predications_9 = model_9.predict(patches_64)\n",
    "predications_10 = model_10.predict(patches_16)\n",
    "predications_11 = model_11.predict(patches_32)"
   ]
  },
  {
   "cell_type": "code",
   "execution_count": null,
   "metadata": {},
   "outputs": [],
   "source": [
    "print(\"original-model-16\")\n",
    "mesh.visual.face_colors = trimesh.visual.interpolate(predications_1, color_map='jet')\n",
    "mesh.show()"
   ]
  },
  {
   "cell_type": "code",
   "execution_count": null,
   "metadata": {},
   "outputs": [],
   "source": [
    "print(\"original-model-32\")\n",
    "mesh.visual.face_colors = trimesh.visual.interpolate(predications_2, color_map='jet')\n",
    "mesh.show()"
   ]
  },
  {
   "cell_type": "code",
   "execution_count": null,
   "metadata": {},
   "outputs": [],
   "source": [
    "print(\"original-model-64\")\n",
    "mesh.visual.face_colors = trimesh.visual.interpolate(predications_3, color_map='jet')\n",
    "mesh.show()"
   ]
  },
  {
   "cell_type": "code",
   "execution_count": null,
   "metadata": {},
   "outputs": [],
   "source": [
    "print(\"optimized-model-16\")\n",
    "mesh.visual.face_colors = trimesh.visual.interpolate(predications_4, color_map='jet')\n",
    "mesh.show()"
   ]
  },
  {
   "cell_type": "code",
   "execution_count": null,
   "metadata": {},
   "outputs": [],
   "source": [
    "print(\"optimized-model-32\")\n",
    "mesh.visual.face_colors = trimesh.visual.interpolate(predications_5, color_map='jet')\n",
    "mesh.show()"
   ]
  },
  {
   "cell_type": "code",
   "execution_count": null,
   "metadata": {},
   "outputs": [],
   "source": [
    "print(\"optimized-model-64\")\n",
    "mesh.visual.face_colors = trimesh.visual.interpolate(predications_6, color_map='jet')\n",
    "mesh.show()"
   ]
  },
  {
   "cell_type": "code",
   "execution_count": null,
   "metadata": {},
   "outputs": [],
   "source": [
    "print(\"new-model-16\")\n",
    "mesh.visual.face_colors = trimesh.visual.interpolate(predications_7, color_map='jet')\n",
    "mesh.show()"
   ]
  },
  {
   "cell_type": "code",
   "execution_count": null,
   "metadata": {},
   "outputs": [],
   "source": [
    "print(\"new-model-32\")\n",
    "mesh.visual.face_colors = trimesh.visual.interpolate(predications_8, color_map='jet')\n",
    "mesh.show()"
   ]
  },
  {
   "cell_type": "code",
   "execution_count": null,
   "metadata": {},
   "outputs": [],
   "source": [
    "print(\"new-model-64\")\n",
    "mesh.visual.face_colors = trimesh.visual.interpolate(predications_9, color_map='jet')\n",
    "mesh.show()"
   ]
  },
  {
   "cell_type": "code",
   "execution_count": null,
   "metadata": {},
   "outputs": [],
   "source": [
    "print(\"paper-16\")\n",
    "mesh.visual.face_colors = trimesh.visual.interpolate(predications_10, color_map='jet')\n",
    "mesh.show()"
   ]
  },
  {
   "cell_type": "code",
   "execution_count": null,
   "metadata": {},
   "outputs": [],
   "source": [
    "print(\"paper-32\")\n",
    "mesh.visual.face_colors = trimesh.visual.interpolate(predications_11, color_map='jet')\n",
    "mesh.show()"
   ]
  },
  {
   "cell_type": "code",
   "execution_count": null,
   "metadata": {},
   "outputs": [],
   "source": [
    "mse_1 = mean_squared_error(saliency, predications_1)\n",
    "mse_2 = mean_squared_error(saliency, predications_2)\n",
    "mse_3 = mean_squared_error(saliency, predications_3)\n",
    "mse_4 = mean_squared_error(saliency, predications_4)\n",
    "mse_5 = mean_squared_error(saliency, predications_5)\n",
    "mse_6 = mean_squared_error(saliency, predications_6)\n",
    "mse_7 = mean_squared_error(saliency, predications_7)\n",
    "mse_8 = mean_squared_error(saliency, predications_8)\n",
    "mse_9 = mean_squared_error(saliency, predications_9)\n",
    "mse_10 = mean_squared_error(saliency, predications_10)\n",
    "mse_11 = mean_squared_error(saliency, predications_11)\n",
    "\n",
    "min_mse = min(mse_1, mse_2, mse_3, mse_4, mse_5, mse_6, mse_7, mse_8, mse_9, mse_10, mse_11)\n",
    "\n",
    "print(f\"original-model-16 : {mse_1}\", \"the best model\" if mse_1 == min_mse else \"\")\n",
    "print(f\"original-model-32 : {mse_2}\", \"the best model\" if mse_2 == min_mse else \"\")\n",
    "print(f\"original-model-64 : {mse_3}\", \"the best model\" if mse_3 == min_mse else \"\")\n",
    "print(f\"new-model-16 : {mse_4}\", \"the best model\" if mse_4 == min_mse else \"\")\n",
    "print(f\"new-model-32 : {mse_5}\", \"the best model\" if mse_5 == min_mse else \"\")\n",
    "print(f\"new-model-64 : {mse_6}\", \"the best model\" if mse_6 == min_mse else \"\")\n",
    "print(f\"optimized-model-16 : {mse_7}\", \"the best model\" if mse_7 == min_mse else \"\")\n",
    "print(f\"optimized-model-32 : {mse_8}\", \"the best model\" if mse_8 == min_mse else \"\")\n",
    "print(f\"optimized-model-64 : {mse_9}\", \"the best model\" if mse_9 == min_mse else \"\")\n",
    "print(f\"paper-16 : {mse_10}\", \"the best model\" if mse_10 == min_mse else \"\")\n",
    "print(f\"paper-32 : {mse_11}\", \"the best model\" if mse_11 == min_mse else \"\")\n"
   ]
  },
  {
   "cell_type": "code",
   "execution_count": null,
   "metadata": {},
   "outputs": [],
   "source": []
  }
 ],
 "metadata": {
  "kernelspec": {
   "display_name": "Python 3",
   "language": "python",
   "name": "python3"
  },
  "language_info": {
   "codemirror_mode": {
    "name": "ipython",
    "version": 3
   },
   "file_extension": ".py",
   "mimetype": "text/x-python",
   "name": "python",
   "nbconvert_exporter": "python",
   "pygments_lexer": "ipython3",
   "version": "3.10.4"
  }
 },
 "nbformat": 4,
 "nbformat_minor": 2
}
